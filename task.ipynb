{
 "cells": [
  {
   "cell_type": "code",
   "execution_count": 8,
   "id": "782e3950-ee86-440c-a8f1-51461600f557",
   "metadata": {},
   "outputs": [],
   "source": [
    "import pandas as pd\n",
    "import numpy as np\n",
    "import warnings\n",
    "import xgboost\n",
    "import datetime as dt\n",
    "import matplotlib.pyplot as plt\n",
    "from sklearn.metrics import mean_squared_error\n",
    "import xgboost \n",
    "\n",
    "\n",
    "\n",
    "\n",
    "\n",
    "solar_data = pd.read_csv('gs://forecast_proj_resources/SolarMonthlyData_2657Custs.csv')"
   ]
  },
  {
   "cell_type": "code",
   "execution_count": 2,
   "id": "22fd0e08-7bad-4258-8d88-e35122c35a36",
   "metadata": {
    "tags": []
   },
   "outputs": [
    {
     "name": "stdout",
     "output_type": "stream",
     "text": [
      "Collecting xgboost\n",
      "  Downloading xgboost-2.0.3-py3-none-manylinux2014_x86_64.whl.metadata (2.0 kB)\n",
      "Requirement already satisfied: numpy in /opt/conda/lib/python3.10/site-packages (from xgboost) (1.26.4)\n",
      "Requirement already satisfied: scipy in /opt/conda/lib/python3.10/site-packages (from xgboost) (1.13.0)\n",
      "Downloading xgboost-2.0.3-py3-none-manylinux2014_x86_64.whl (297.1 MB)\n",
      "\u001b[2K   \u001b[90m━━━━━━━━━━━━━━━━━━━━━━━━━━━━━━━━━━━━━━━━\u001b[0m \u001b[32m297.1/297.1 MB\u001b[0m \u001b[31m4.5 MB/s\u001b[0m eta \u001b[36m0:00:00\u001b[0m:00:01\u001b[0m00:01\u001b[0m\n",
      "\u001b[?25hInstalling collected packages: xgboost\n",
      "Successfully installed xgboost-2.0.3\n"
     ]
    }
   ],
   "source": [
    "!pip install xgboost"
   ]
  },
  {
   "cell_type": "code",
   "execution_count": 26,
   "id": "23442d3f-83ff-476b-9ea1-a1a1d7300fd7",
   "metadata": {
    "tags": []
   },
   "outputs": [
    {
     "name": "stderr",
     "output_type": "stream",
     "text": [
      "/var/tmp/ipykernel_4404/1240093908.py:39: FutureWarning: DataFrame.fillna with 'method' is deprecated and will raise in a future version. Use obj.ffill() or obj.bfill() instead.\n",
      "  df_long.fillna(method='bfill', inplace=True)\n"
     ]
    }
   ],
   "source": [
    "\n",
    "# Data preprocessing\n",
    "# ======================================================================================\n",
    "consumption_billrate = ['PK', 'LVP', 'SH', 'LVS','OP','OP1','OP2']\n",
    "solar_data_consumption = solar_data[(solar_data['Netwk Bill Rate Type'].isin(consumption_billrate)) & (solar_data['Unit of me'] == 'KWH')].copy()\n",
    "solar_data_consumption['Consumption Month'] = solar_data_consumption['Consumption Month'].apply(lambda x: \"{:.4f}\".format(x))\n",
    "solar_data_consumption['Consumption Month'] = solar_data_consumption['Consumption Month'].astype('str')\n",
    "solar_data_consumption['Consumption Month'] = pd.to_datetime(solar_data_consumption['Consumption Month'].apply(lambda x: dt.datetime.strptime(x, '%m.%Y')))\n",
    "solar_data_consumption['house_type'] = 'solar'\n",
    "\n",
    "generation_billrate = ['PGR', 'SGR','OGR','OGG','PGG','SGG']\n",
    "solar_data_generation = solar_data[(solar_data['Netwk Bill Rate Type'].isin(generation_billrate)) & (solar_data['Unit of me'] == 'KWH')].copy()\n",
    "solar_data_generation['Consumption Month'] = solar_data_generation['Consumption Month'].apply(lambda x: \"{:.4f}\".format(x))\n",
    "solar_data_generation['Consumption Month'] = solar_data_generation['Consumption Month'].astype('str')\n",
    "solar_data_generation['Consumption Month'] = pd.to_datetime(solar_data_generation['Consumption Month'].apply(lambda x: dt.datetime.strptime(x, '%m.%Y')))\n",
    "\n",
    "\n",
    "solar_grouped_generation  = solar_data_generation.groupby(['Customer ID', 'Consumption Month']).agg({'Sum': 'sum'}).reset_index()\n",
    "solar_grouped_consumption = solar_data_consumption.groupby(['Customer ID', 'Consumption Month']).agg({'Sum': 'sum'}).reset_index()\n",
    "\n",
    "solar_net_consumption = solar_grouped_consumption.merge(solar_grouped_generation, on = [ 'Customer ID', 'Consumption Month'], how = 'left',\n",
    "          suffixes=('_left', '_right'))\n",
    "\n",
    "solar_net_consumption['Consumption'] = solar_net_consumption.fillna(0)['Sum_left'] - solar_net_consumption.fillna(0)['Sum_right']\n",
    "df = solar_net_consumption.copy()\n",
    "\n",
    "# Feature Engineering \n",
    "def create_lag_features(data, lag_steps):\n",
    "    for lag in range(1, lag_steps + 1):\n",
    "        data[f'lag_{lag}'] = data.groupby('Customer ID')['Consumption'].shift(lag)\n",
    "    return data\n",
    "df_long = create_lag_features(df, lag_steps=3)\n",
    "\n",
    "def create_rolling_mean_features(data, window_size):\n",
    "    data['rolling_mean'] = data.groupby('Customer ID')['Consumption'].transform(lambda x: x.shift(1).rolling(window=window_size).mean())\n",
    "    return data\n",
    "df_long = create_rolling_mean_features(df_long, window_size=2)\n",
    "\n",
    "\n",
    "df_long.fillna(method='bfill', inplace=True)\n",
    "df_long['Consumption Month'] = pd.to_datetime(df_long['Consumption Month'])\n",
    "\n",
    "\n",
    "\n",
    "# splittting the data \n",
    "split_date = '2014-12-01'\n",
    "train_data = df_long[df_long['Consumption Month'] < split_date]\n",
    "test_data = df_long[df_long['Consumption Month'] == split_date]\n",
    "# Separate features and target\n",
    "X_train = train_data.drop(columns=['Customer ID', 'Consumption Month', 'Consumption'])\n",
    "y_train = train_data['Consumption']\n",
    "X_test = test_data.drop(columns=['Customer ID', 'Consumption Month', 'Consumption'])\n",
    "y_test = test_data['Consumption']\n",
    "\n"
   ]
  },
  {
   "cell_type": "code",
   "execution_count": 19,
   "id": "987cc3a1-57aa-4724-a556-1d3d0af17324",
   "metadata": {
    "tags": []
   },
   "outputs": [
    {
     "name": "stderr",
     "output_type": "stream",
     "text": [
      "/opt/conda/lib/python3.10/site-packages/xgboost/core.py:160: UserWarning: [22:10:04] WARNING: /workspace/src/c_api/c_api.cc:1240: Saving into deprecated binary model format, please consider using `json` or `ubj`. Model format will default to JSON in XGBoost 2.2 if not specified.\n",
      "  warnings.warn(smsg, UserWarning)\n"
     ]
    }
   ],
   "source": [
    "\n",
    "artifact_filename = 'model.bst'\n",
    "# Save model artifact to local filesystem (doesn't persist)\n",
    "local_path = artifact_filename\n",
    "bst.save_model(local_path)\n",
    "model_directory = 'gs://forecast_proj_resources'\n",
    "storage_path = os.path.join(model_directory, artifact_filename)\n",
    "blob = storage.blob.Blob.from_string(storage_path, client=storage.Client())\n",
    "blob.upload_from_filename(local_path)"
   ]
  },
  {
   "cell_type": "code",
   "execution_count": null,
   "id": "ea6a773c-f848-42b4-a74e-0533d0784bd5",
   "metadata": {},
   "outputs": [],
   "source": []
  }
 ],
 "metadata": {
  "environment": {
   "kernel": "conda-base-py",
   "name": "workbench-notebooks.m121",
   "type": "gcloud",
   "uri": "us-docker.pkg.dev/deeplearning-platform-release/gcr.io/workbench-notebooks:m121"
  },
  "kernelspec": {
   "display_name": "Python 3 (ipykernel) (Local)",
   "language": "python",
   "name": "conda-base-py"
  },
  "language_info": {
   "codemirror_mode": {
    "name": "ipython",
    "version": 3
   },
   "file_extension": ".py",
   "mimetype": "text/x-python",
   "name": "python",
   "nbconvert_exporter": "python",
   "pygments_lexer": "ipython3",
   "version": "3.10.14"
  }
 },
 "nbformat": 4,
 "nbformat_minor": 5
}
